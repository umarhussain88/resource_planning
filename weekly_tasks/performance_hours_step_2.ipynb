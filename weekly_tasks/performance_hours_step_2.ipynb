{
 "cells": [
  {
   "cell_type": "markdown",
   "metadata": {},
   "source": [
    "# Performance Hours Step 2 \n",
    "\n",
    "* Create Tabular form \n",
    "\n",
    "* Write to SQL.\n",
    "\n",
    "* Create a traceable weekly log."
   ]
  },
  {
   "cell_type": "code",
   "execution_count": 2,
   "metadata": {},
   "outputs": [],
   "source": [
    "import sys,os\n",
    "from pathlib import Path\n",
    "from time import sleep\n",
    "\n",
    "sys.path.append(\n",
    "    os.path.abspath(\n",
    "        r\"S:\\Data\\Stores Payroll\\FY21\\99_Master Scripts (DO NOT EDIT)\\dB_Connector\"))\n",
    "\n",
    "from connector import *\n",
    "\n",
    "sys.path.append(\n",
    "    os.path.abspath(\n",
    "        r\"S:\\Data\\Stores Payroll\\FY21\\99_Master Scripts (DO NOT EDIT)\\common_functions\"))\n",
    "\n",
    "from halfords_functions import newest, halfords_week\n",
    "\n",
    "\n",
    "import pandas as pd\n",
    "from datetime import datetime\n",
    "import shutil\n",
    "import re\n",
    "import numpy as np"
   ]
  },
  {
   "cell_type": "code",
   "execution_count": 3,
   "metadata": {},
   "outputs": [],
   "source": [
    "# fy21 dates.\n",
    "\n",
    "dates = pd.read_sql(\"SELECT * from fy21_calendar\", con=engine)\n",
    "\n",
    "# structure tab wtih shop names etc.\n",
    "\n",
    "structure = pd.read_sql(\"SELECT Shop as store from structure_tab\", engine)\n"
   ]
  },
  {
   "cell_type": "code",
   "execution_count": 4,
   "metadata": {},
   "outputs": [
    {
     "name": "stdout",
     "output_type": "stream",
     "text": [
      "As today is 2019-09-25 we haven't started FY21 so we will be using a psuedo week number which is calculated\n",
      "from the distance of weeks from FY21\n",
      "We are -27 weeks away from FY21\n"
     ]
    }
   ],
   "source": [
    "file_name,week_,day_ = halfords_week(dates)\n",
    "print(f\"We are {week_} weeks away from FY21\")"
   ]
  },
  {
   "cell_type": "code",
   "execution_count": null,
   "metadata": {},
   "outputs": [],
   "source": []
  },
  {
   "cell_type": "markdown",
   "metadata": {},
   "source": [
    "# Read in latest Perf."
   ]
  },
  {
   "cell_type": "code",
   "execution_count": 7,
   "metadata": {},
   "outputs": [],
   "source": [
    "perf_loc = r'S:\\Data\\Stores Payroll\\FY21\\02_Weekly Tasks\\Actual Sales - Performance Hours\\outputs'"
   ]
  },
  {
   "cell_type": "code",
   "execution_count": 8,
   "metadata": {},
   "outputs": [],
   "source": [
    "perf_ = pd.read_excel(newest(perf_loc),sheet_name=0)"
   ]
  },
  {
   "cell_type": "code",
   "execution_count": 13,
   "metadata": {},
   "outputs": [],
   "source": [
    "perf_.rename(columns={'Store' : 'store'},inplace=True)"
   ]
  },
  {
   "cell_type": "code",
   "execution_count": 14,
   "metadata": {},
   "outputs": [],
   "source": [
    "# get perf from SQL.\n",
    "\n",
    "perf = pd.read_sql(\"SELECT * from perf_hours_tabular\", engine)\n",
    "\n",
    "os.chdir(r'S:\\Data\\Stores Payroll\\FY21\\02_Weekly Tasks\\Actual Sales - Performance Hours\\sql_extract')\n",
    "\n",
    "perf.to_csv(file_name + 'perf_extract.csv',index=False)\n",
    "\n",
    "# Merge with latest file.\n",
    "perf_m = pd.merge(\n",
    "    perf, perf_[[\"store\", \"Week\", \"Actual Perf\"]], on=[\"store\", \"Week\"], how=\"left\"\n",
    ")\n",
    "\n",
    "# Replace current week with 0 and write in actual scores.\n",
    "perf_m.loc[perf_m[\"Week\"] == perf_[\"Week\"][0], \"Perf\"] = perf_m[\"Actual Perf\"]\n",
    "\n",
    "# Drop column.\n",
    "perf_m.drop(\"Actual Perf\", axis=1, inplace=True)"
   ]
  },
  {
   "cell_type": "code",
   "execution_count": null,
   "metadata": {},
   "outputs": [],
   "source": []
  },
  {
   "cell_type": "code",
   "execution_count": 24,
   "metadata": {},
   "outputs": [
    {
     "name": "stdout",
     "output_type": "stream",
     "text": [
      "This weeks Perf is 3005.75\n",
      "Your Week Listed in the File is 2125\n",
      "Do you wish to write these into SQL?\n",
      "Please enter [Y]es or [N]o to continues\n",
      "Please Enter [Y] or [N]\n",
      "Your Week Listed in the File is 2125\n",
      "Do you wish to write these into SQL?\n",
      "Please enter [Y]es or [N]o to continuey\n",
      "Finished Writing to SQL.\n",
      "Crosstab Finished.\n"
     ]
    }
   ],
   "source": [
    "d_types = {\"Store\": sa.types.VARCHAR(length=50)}\n",
    "\n",
    "print(f\"This weeks Perf is {perf_['Actual Perf'].sum()}\")\n",
    "\n",
    "while True:\n",
    "    print(f\"Your Week Listed in the File is {perf_['Week'][0]}\")\n",
    "    print(\"Do you wish to write these into SQL?\")\n",
    "    cmd = input(\"Please enter [Y]es or [N]o to continue\")\n",
    "    cmd.lower()\n",
    "    if cmd == \"y\":\n",
    "        perf_m.to_sql(\n",
    "            \"perf_hours_tabular\", engine, schema=\"dbo\", if_exists=\"replace\", index=False\n",
    "        )\n",
    "        perf_m[\"Store\"] = perf_m[\"store\"].astype(int).astype(str).str.zfill(4)\n",
    "        perf_ct = pd.crosstab(\n",
    "            perf_m[\"Store\"], perf_m[\"Week\"], perf_m[\"Perf\"], aggfunc=\"sum\"\n",
    "        ).reset_index()\n",
    "        perf_ct.to_sql(\n",
    "            \"perf_hours\",\n",
    "            engine,\n",
    "            schema=\"dbo\",\n",
    "            index=False,\n",
    "            if_exists=\"replace\",\n",
    "            dtype=d_types,\n",
    "        )\n",
    "        print(\"Finished Writing to SQL.\")\n",
    "        print(\"Crosstab Finished.\")\n",
    "        break\n",
    "    elif cmd == \"n\":\n",
    "        print(\"Exiting Program\")\n",
    "        break\n",
    "    else:\n",
    "        print(\"Please Enter [Y] or [N]\")"
   ]
  },
  {
   "cell_type": "code",
   "execution_count": 26,
   "metadata": {},
   "outputs": [],
   "source": [
    "for file in Path(perf_loc).glob('*.xlsx'):\n",
    "    shutil.move(str(file), os.path.join(str(file.parent) + '\\\\processed', str(file).split('\\\\')[-1]))"
   ]
  },
  {
   "cell_type": "code",
   "execution_count": null,
   "metadata": {},
   "outputs": [],
   "source": []
  },
  {
   "cell_type": "code",
   "execution_count": null,
   "metadata": {},
   "outputs": [],
   "source": []
  },
  {
   "cell_type": "code",
   "execution_count": null,
   "metadata": {},
   "outputs": [],
   "source": []
  },
  {
   "cell_type": "code",
   "execution_count": null,
   "metadata": {},
   "outputs": [],
   "source": []
  },
  {
   "cell_type": "code",
   "execution_count": null,
   "metadata": {},
   "outputs": [],
   "source": []
  }
 ],
 "metadata": {
  "kernelspec": {
   "display_name": "Python 3",
   "language": "python",
   "name": "python3"
  },
  "language_info": {
   "codemirror_mode": {
    "name": "ipython",
    "version": 3
   },
   "file_extension": ".py",
   "mimetype": "text/x-python",
   "name": "python",
   "nbconvert_exporter": "python",
   "pygments_lexer": "ipython3",
   "version": "3.7.3"
  }
 },
 "nbformat": 4,
 "nbformat_minor": 2
}
