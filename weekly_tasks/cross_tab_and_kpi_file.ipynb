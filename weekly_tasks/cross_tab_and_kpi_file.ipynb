{
 "cells": [
  {
   "cell_type": "markdown",
   "metadata": {},
   "source": [
    "# Simple script to Create a Crosstab & the KPI File for Dayforce."
   ]
  },
  {
   "cell_type": "code",
   "execution_count": 1,
   "metadata": {},
   "outputs": [],
   "source": [
    "import sys,os\n",
    "from pathlib import Path\n",
    "from time import sleep\n",
    "\n",
    "sys.path.append(\n",
    "    os.path.abspath(\n",
    "        r\"S:\\Data\\Stores Payroll\\FY21\\99_Master Scripts (DO NOT EDIT)\\dB_Connector\"))\n",
    "\n",
    "from connector import *\n",
    "\n",
    "sys.path.append(\n",
    "    os.path.abspath(\n",
    "        r\"S:\\Data\\Stores Payroll\\FY21\\99_Master Scripts (DO NOT EDIT)\\common_functions\"))\n",
    "\n",
    "from halfords_functions import newest, halfords_week\n",
    "\n",
    "import pandas as pd\n",
    "from datetime import datetime\n",
    "import shutil\n",
    "import numpy as np"
   ]
  },
  {
   "cell_type": "code",
   "execution_count": 2,
   "metadata": {},
   "outputs": [],
   "source": [
    "# fy21 dates.\n",
    "\n",
    "dates = pd.read_sql(\"SELECT * from fy21_calendar\", con=engine)\n",
    "\n",
    "# structure tab wtih shop names etc.\n",
    "\n",
    "structure = pd.read_sql(\"SELECT Shop as store from structure_tab\", engine)\n"
   ]
  },
  {
   "cell_type": "code",
   "execution_count": 3,
   "metadata": {},
   "outputs": [
    {
     "name": "stdout",
     "output_type": "stream",
     "text": [
      "As today is 2019-09-26 we haven't started FY21 so we will be using a psuedo week number which is calculated\n",
      "from the distance of weeks from FY21\n",
      "We are -27 weeks away from FY21\n"
     ]
    }
   ],
   "source": [
    "file_name,week_,day_ = halfords_week(dates)\n",
    "print(f\"We are {week_} weeks away from FY21\")"
   ]
  },
  {
   "cell_type": "code",
   "execution_count": 4,
   "metadata": {},
   "outputs": [],
   "source": [
    "# Create an empty dataframe with a value for every week of the year.\n",
    "\n",
    "structure['Type'] = 'Extra'\n",
    "structure['WeekYear'] = 2020001\n",
    "structure = pd.concat([structure]*52)\n",
    "\n",
    "structure['WeekYear'] = structure['WeekYear'].add(structure.groupby(['store']).cumcount())"
   ]
  },
  {
   "cell_type": "code",
   "execution_count": 5,
   "metadata": {},
   "outputs": [],
   "source": [
    "# Read in the Structure Tab as an aggregate query.\n",
    "\n",
    "xh20 = pd.read_sql(\n",
    "    \"SELECT shop as store, sum(hours) as Hours, [Week Number] from extraHoursDetails group by [Week Number], Shop\",\n",
    "    engine,\n",
    ")\n",
    "\n",
    "xh20[\"Week Number\"] = xh20[\"Week Number\"].astype(str).str.zfill(3)\n",
    "\n",
    "\n",
    "xh20[\"WeekYear\"] = \"2020\" + xh20[\"Week Number\"]\n",
    "\n",
    "\n",
    "xh20[\"WeekYear\"] = xh20[\"WeekYear\"].astype(int)\n",
    "\n",
    "\n",
    "\n",
    "\n"
   ]
  },
  {
   "cell_type": "code",
   "execution_count": 6,
   "metadata": {},
   "outputs": [],
   "source": [
    "structure['store'] = structure['store'].astype(int)"
   ]
  },
  {
   "cell_type": "code",
   "execution_count": 7,
   "metadata": {},
   "outputs": [],
   "source": [
    "finalDF = (\n",
    "    pd.merge(\n",
    "        structure,\n",
    "        xh20[[\"store\", \"WeekYear\", \"Hours\"]],\n",
    "        on=[\"store\", \"WeekYear\"],\n",
    "        how=\"left\",\n",
    "    )\n",
    "    .fillna(0)\n",
    "    .sort_values([\"store\", \"WeekYear\"])\n",
    ")\n",
    "\n",
    "finalDF = finalDF[[\"Type\", \"WeekYear\", \"store\", \"Hours\"]].reset_index(drop=True)\n",
    "\n",
    "\n"
   ]
  },
  {
   "cell_type": "code",
   "execution_count": 8,
   "metadata": {},
   "outputs": [
    {
     "name": "stdout",
     "output_type": "stream",
     "text": [
      "[Y] or [N]y\n"
     ]
    }
   ],
   "source": []
  },
  {
   "cell_type": "code",
   "execution_count": 9,
   "metadata": {},
   "outputs": [
    {
     "name": "stdout",
     "output_type": "stream",
     "text": [
      "saving file to C:\\Users\\hal01845\\OneDrive - HALFORDSGROUP\\Master Backup of Umar's Scripts DO NOT EDIT\\FY21\\Weekly Tasks\n"
     ]
    }
   ],
   "source": []
  },
  {
   "cell_type": "code",
   "execution_count": 13,
   "metadata": {},
   "outputs": [
    {
     "name": "stdout",
     "output_type": "stream",
     "text": [
      "Do you wish to save the KPI file to G:\\MFRAME\\FTPDATA\\Dayforce\\PRD\\KPIHours\n",
      "[Y] or [N]y\n",
      "saving file to G:\\MFRAME\\FTPDATA\\Dayforce\\PRD\\KPIHours\n",
      "file saved to : \"G:\\MFRAME\\FTPDATA\\Dayforce\\PRD\\KPIHours please email the IT helpdesk asking them to process the file\n"
     ]
    }
   ],
   "source": [
    "os.chdir(r'S:\\Data\\Stores Payroll\\FY21\\02_Weekly Tasks\\Extra Hours\\dayforce_kpi_files')\n",
    "\n",
    "finalDF.to_csv(f'{file_name}_dayforce_kpi_unprocessed.csv',index=False,header=None)\n",
    "\n",
    "os.chdir(r\"G:\\MFRAME\\FTPDATA\\Dayforce\\PRD\\KPIHours\")\n",
    "\n",
    "\n",
    "print(f\"Do you wish to save the KPI file to {os.getcwd()}\")\n",
    "\n",
    "cmd = input(\"[Y] or [N]\")\n",
    "\n",
    "while True:\n",
    "    if cmd.lower().strip() == 'y':\n",
    "        print(f\"saving file to {os.getcwd()}\")\n",
    "        the_path = '\"G:\\MFRAME\\FTPDATA\\Dayforce\\PRD\\KPIHours'\n",
    "        print(f\"file saved to : {the_path} please email the IT helpdesk asking them to process the file\")\n",
    "        break\n",
    "    elif cmd.lower().strip() == 'n':\n",
    "        print(\"Saving file to \\\\extra hours\\dayforce_kpi_files only\")\n",
    "        break\n",
    "    else:\n",
    "        print(\"Please enter Y or N\")\n",
    "\n",
    "\n"
   ]
  },
  {
   "cell_type": "code",
   "execution_count": 62,
   "metadata": {},
   "outputs": [
    {
     "name": "stdout",
     "output_type": "stream",
     "text": [
      "Crosstab Updated.\n"
     ]
    }
   ],
   "source": [
    "xh20 = \"SELECT * from extraHoursDetails\"\n",
    "\n",
    "xh20 = pd.read_sql(xh20,engine)\n",
    "\n",
    "st = pd.read_sql(\"SELECT Shop as Store from structure_tab\", engine)\n",
    "\n",
    "## Create a Week Column and set to Week 1 ## \n",
    "st['Week'] = 2101\n",
    "\n",
    "\n",
    "st = pd.concat([st]*52)\n",
    "\n",
    "st['Store'] = st['Store'].astype(int).astype(str).str.zfill(4)\n",
    "\n",
    "st['Week'] = st.Week.add(st.groupby(['Store']).cumcount())\n",
    "\n",
    "xh20ct = pd.merge(st,xh20[['Store','Week','Hours']],on=['Store','Week'],how='left').fillna(0)\n",
    "\n",
    "xh20ct = pd.crosstab(xh20ct['Store'],xh20ct['Week'],xh20ct['Hours'],aggfunc='sum').reset_index()\n",
    "\n",
    "xh20ct.columns = xh20ct.columns.astype(str)\n",
    "\n",
    "xh20ct.to_sql('extraHours',con=engine,schema='dbo',if_exists='replace',index=False,dtype={'Store' : sa.types.VARCHAR(length=255)})\n",
    "\n",
    "print(\"Crosstab Updated.\")"
   ]
  },
  {
   "cell_type": "code",
   "execution_count": 63,
   "metadata": {},
   "outputs": [
    {
     "data": {
      "text/plain": [
       "Store                object\n",
       "Shop                float64\n",
       "Week                  int64\n",
       "Hours               float64\n",
       "Reason               object\n",
       "CostCentre           object\n",
       "Type                 object\n",
       "Rate                float64\n",
       "Owner                object\n",
       "BusinessFunction     object\n",
       "EmployeeNumber      float64\n",
       "Week Number           int64\n",
       "dtype: object"
      ]
     },
     "execution_count": 63,
     "metadata": {},
     "output_type": "execute_result"
    }
   ],
   "source": []
  },
  {
   "cell_type": "code",
   "execution_count": null,
   "metadata": {},
   "outputs": [],
   "source": []
  },
  {
   "cell_type": "code",
   "execution_count": null,
   "metadata": {},
   "outputs": [],
   "source": []
  }
 ],
 "metadata": {
  "kernelspec": {
   "display_name": "Python 3",
   "language": "python",
   "name": "python3"
  },
  "language_info": {
   "codemirror_mode": {
    "name": "ipython",
    "version": 3
   },
   "file_extension": ".py",
   "mimetype": "text/x-python",
   "name": "python",
   "nbconvert_exporter": "python",
   "pygments_lexer": "ipython3",
   "version": "3.7.3"
  }
 },
 "nbformat": 4,
 "nbformat_minor": 2
}
