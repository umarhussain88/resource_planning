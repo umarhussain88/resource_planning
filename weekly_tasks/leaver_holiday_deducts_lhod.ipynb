{
 "cells": [
  {
   "cell_type": "code",
   "execution_count": 1,
   "metadata": {},
   "outputs": [],
   "source": [
    "import sys,os, glob\n",
    "from pathlib import Path\n",
    "\n",
    "import pandas as pd\n",
    "import numpy as np\n",
    "from datetime import datetime\n",
    "import shutil\n",
    "\n",
    "\n",
    "sys.path.append(\n",
    "    os.path.abspath(\n",
    "        r\"S:\\Data\\Stores Payroll\\FY21\\99_Master Scripts (DO NOT EDIT)\\dB_Connector\"))\n",
    "\n",
    "from connector import *\n",
    "\n",
    "sys.path.append(\n",
    "    os.path.abspath(\n",
    "        r\"S:\\Data\\Stores Payroll\\FY21\\99_Master Scripts (DO NOT EDIT)\\common_functions\"))\n",
    "\n",
    "from halfords_functions import newest, halfords_week\n",
    "\n",
    "\n"
   ]
  },
  {
   "cell_type": "markdown",
   "metadata": {},
   "source": [
    "## Leaver Holiday Deductions. \n",
    "\n",
    "## As last years script (FY20) is quite robust it will be a blanket copy. \n",
    "\n",
    "* Simply a calculation of three files to calculate leaver holiday taken and any deductions to be applied to a shops holiday budget.\n",
    "* Starting with the Holiday Deduct File, get any leavers and thier latest contract. \n",
    "* Calculate the diff in the contract on the LHOD file and the Leaver file.\n",
    "* group the Holiday Taken file by Col, Shop and Week. \n",
    "* Final Step, if the balance owed is less than 0 then (holiday taken * balance owed) / [Holiday Taken by Date of Leaving], if greater than 0 then (balance owed * contract now)\n",
    "* Leaver file is used to get shop numbers and last contract.\n",
    "\n",
    "\n",
    "* Redone on 02/04/19 - Matches current process exactly. - Damian in agreement.\n"
   ]
  },
  {
   "cell_type": "code",
   "execution_count": 4,
   "metadata": {},
   "outputs": [],
   "source": [
    "# Set Paths. \n",
    "\n",
    "leaver_path = r\"S:\\Data\\Stores Payroll\\FY21\\02_Weekly Tasks\\LHOD\\raw_data\\leavers\"\n",
    "\n",
    "deduction_path = r\"S:\\Data\\Stores Payroll\\FY21\\02_Weekly Tasks\\LHOD\\raw_data\\deductions\"\n",
    "\n",
    "hol_taken_path = r\"S:\\Data\\Stores Payroll\\FY21\\02_Weekly Tasks\\LHOD\\raw_data\\hol_taken\"\n",
    "\n",
    "dates = pd.read_sql(\"SELECT * from fy21_calendar\", con=engine)\n",
    "\n",
    "items_ = [leaver_path, deduction_path,hol_taken_path]"
   ]
  },
  {
   "cell_type": "code",
   "execution_count": 5,
   "metadata": {},
   "outputs": [
    {
     "name": "stdout",
     "output_type": "stream",
     "text": [
      "As today is 2019-09-26 we haven't started FY21 so we will be using a psuedo week number which is calculated\n",
      "from the distance of weeks from FY21\n",
      "We are -27 weeks away from FY21\n"
     ]
    }
   ],
   "source": [
    "file_name,week_,day_ = halfords_week(dates)\n",
    "print(f\"We are {week_} weeks away from FY21\")"
   ]
  },
  {
   "cell_type": "code",
   "execution_count": null,
   "metadata": {},
   "outputs": [],
   "source": [
    "# read in latest files from these locations \n",
    "\n",
    "leavers = pd.read_excel(newest(leaver_path),skiprows=1)\n",
    "\n",
    "lhod = pd.read_excel(newest(deduction_path),skiprows=1)\n",
    "\n",
    "hol_taken = pd.read_excel(newest(hol_taken_path),skiprows=1)\n",
    "\n",
    "hol_taken_b = hol_taken\n"
   ]
  },
  {
   "cell_type": "code",
   "execution_count": null,
   "metadata": {},
   "outputs": [],
   "source": [
    "lhod.rename(columns={'Payroll Number' : 'Number'},inplace=True)"
   ]
  },
  {
   "cell_type": "code",
   "execution_count": null,
   "metadata": {},
   "outputs": [],
   "source": [
    "## Get the last contract \n",
    "\n",
    "last_cont = pd.merge(lhod,leavers[['Number','Contract']],on='Number',how='left')"
   ]
  },
  {
   "cell_type": "code",
   "execution_count": null,
   "metadata": {},
   "outputs": [],
   "source": [
    "## Lets Merge the Week Number on Termination Date ##\n",
    "\n",
    "df = pd.merge(\n",
    "    last_cont,\n",
    "    dates[[\"date\", \"retail_ops_week\"]],\n",
    "    left_on=last_cont[\"Termination Date\"].dt.normalize(),\n",
    "    right_on=\"date\",\n",
    "    how=\"inner\",\n",
    ").drop(columns=[\"date\"])"
   ]
  },
  {
   "cell_type": "code",
   "execution_count": null,
   "metadata": {},
   "outputs": [],
   "source": []
  },
  {
   "cell_type": "code",
   "execution_count": null,
   "metadata": {},
   "outputs": [],
   "source": [
    "## Drop Stores with NA, this is from my process notes ### \n",
    "\"\"\"\n",
    "1. Create a list of Payroll Numbers from the LHOD File,\n",
    "2. Group by Payroll Numbers of Holiday Taken and Sum the Holiday Hours\n",
    "3. do a left merge on matching keys to get the sum of Holiday Hours and hol_taken Store Number\n",
    "4. Merge the Sum of Holiday Hours onto the main Data Frame\n",
    "\n",
    "\"\"\"\n",
    "\n",
    "hol_taken.dropna(subset=['Location Ledger Code'],inplace=True)\n",
    "\n",
    "\n",
    "hol_taken = hol_taken.groupby(['Number'])['Hours1'].sum().reset_index()\n",
    "\n",
    "\n",
    "hol_taken_1 = pd.DataFrame({'Number':list(df['Number'])})\n",
    "\n",
    "\n",
    "hol_taken_1 = pd.merge(hol_taken_1,hol_taken,on=['Number'],how='left')\n",
    "\n",
    "\n",
    "# I have no idea why I wrote it like this - most likely following T's logic no time to refactor. \n",
    "\n",
    "hol_taken_1  = hol_taken_1[['Number','Hours1']]\n",
    "\n",
    "## as the Holiday Taken is a group by we need to remove the duplicate keys (Payroll Numbers) \n",
    "#so we don't duplicate data in our main DF ## \n",
    "\n",
    "hol_taken_1 = hol_taken_1.drop_duplicates(subset='Number').fillna(0)\n",
    "\n",
    "\n",
    "## Merge this back onto our main DF ## \n",
    "\n",
    "df = pd.merge(df,hol_taken_1,on='Number',how='left')\n",
    "\n",
    "## Where there is no location for the LHOD Record, we use the actual Normal Weekly Contract from the LHOD report ##\n",
    "\n",
    "df.loc[df.Contract.isnull(),['Contract']] = df['Weekly Contract']\n",
    "\n",
    "# All Contracts minus Contract at date of leaving \n",
    "\n",
    "\n",
    "df['Contract Difference'] = df['Contract'] - df['Weekly Contract']\n",
    "\n",
    "df.loc[df['Contract Difference'].isna(),['Contract Difference']] = df['Contract']\n",
    "\n"
   ]
  },
  {
   "cell_type": "code",
   "execution_count": null,
   "metadata": {},
   "outputs": [],
   "source": [
    "## Work out Deduction, this is done if the Colleagues Balance was \n",
    "##lower than 0, then the Holiday Hours Taken multiplied by their Balance Divided by their Holiday Taken. ## \n",
    "## If Balance > 0 then the Balance is multiplied by the most Recent Contract (taken from the Leaver file) ## \n",
    "\n",
    "\n",
    "df['Deduction'] = np.where(df['Balance'] < 0, (df['Hours1'] * df['Balance']) / df['Holiday Taken'], \n",
    "                              \n",
    "                              df['Balance'] * df['Contract'])\n",
    "\n",
    "\n",
    "\n",
    "## use np.ceil to round this up to the nearest 0.25 \n",
    "\n",
    "df['Deduction'] = np.ceil(df['Deduction']*4)/4\n",
    "\n",
    "\n",
    "## Take the ABS of the Deduction ## \n",
    "\n",
    "df['Final Deducts'] = np.where(df['Contract Difference'] == 0, abs(df['Deduction']),0)"
   ]
  },
  {
   "cell_type": "code",
   "execution_count": null,
   "metadata": {},
   "outputs": [],
   "source": [
    "## Take Leavers Shop Numbers ##\n",
    "\n",
    "leavers = leavers.loc[leavers.Number.isin(df.Number)]\n",
    "\n",
    "\n",
    "df = pd.merge(df, leavers[[\"Number\", \"Location\"]], on=\"Number\", how=\"left\").rename(\n",
    "    columns={\"Location\": \"Location on Leave\"}\n",
    ")"
   ]
  },
  {
   "cell_type": "code",
   "execution_count": null,
   "metadata": {},
   "outputs": [],
   "source": [
    "## Get Holiday Taken Shop Number ##\n",
    "## For YTD these aren't used at all ##\n",
    "\n",
    "hol_taken_b = hol_taken_b.loc[hol_taken_b.Number.isin(df.Number)]\n",
    "hol_taken_b = hol_taken_b.drop_duplicates(subset=[\"Number\"], keep=\"last\")\n",
    "\n",
    "df = pd.merge(\n",
    "    df, hol_taken_b[[\"Number\", \"Location Ledger Code\"]], on=\"Number\", how=\"left\"\n",
    ").rename(columns={\"Location Ledger Code\": \"HT Last Location\"})"
   ]
  },
  {
   "cell_type": "code",
   "execution_count": null,
   "metadata": {},
   "outputs": [],
   "source": [
    "## Workout PayCodes ## \n",
    "\n",
    "df['PayCode'] = np.where(df['Deduction'] < 0, \"LHOD\",\"LHOP\")\n",
    "\n",
    "\n",
    "lhod_final = df[['retail_ops_week','Termination Date','Location on Leave','Final Deducts']]\n",
    "\n",
    "\n",
    "\n",
    "\n"
   ]
  },
  {
   "cell_type": "code",
   "execution_count": null,
   "metadata": {},
   "outputs": [],
   "source": [
    "df['DFPaycode'] = df['PayCode']\n",
    "\n",
    "\n",
    "\n",
    "df1 = df[['retail_ops_week','Location on Leave','PayCode','DFPaycode','Final Deducts']]"
   ]
  },
  {
   "cell_type": "code",
   "execution_count": null,
   "metadata": {},
   "outputs": [],
   "source": [
    "cols = ['retail_ops_week','Store','DFPaycode','PayCode','Hours']\n",
    "\n",
    "\n",
    "\n",
    "df1.columns = cols"
   ]
  },
  {
   "cell_type": "code",
   "execution_count": null,
   "metadata": {},
   "outputs": [],
   "source": [
    "# get today's date \n",
    "\n",
    "datetime.today().strftime('%Y-%m-%d')\n",
    "\n",
    "today = dates.loc[dates.date == datetime.today().strftime('%Y-%m-%d')]\n",
    "\n",
    "week_ = int(today['week'])\n",
    "\n",
    "day_ = int(today['posting_day'])\n",
    "\n",
    "file_name = f'lhod_week_{week_}_day_{day_}.xlsx'"
   ]
  },
  {
   "cell_type": "code",
   "execution_count": null,
   "metadata": {},
   "outputs": [],
   "source": [
    "os.chdir(r\"S:\\Data\\Stores Payroll\\FY21\\02_Weekly Tasks\\LHOD\\outputs\")\n",
    "writer = pd.ExcelWriter(file_name + 'lhod.xlsx')\n",
    "df.to_excel(writer,\"raw_data\",index=False)\n",
    "df1.to_excel(writer,\"lhod_deductions\",index=False)\n",
    "writer.save()\n",
    "writer.close()"
   ]
  },
  {
   "cell_type": "code",
   "execution_count": null,
   "metadata": {},
   "outputs": [],
   "source": []
  },
  {
   "cell_type": "code",
   "execution_count": null,
   "metadata": {},
   "outputs": [],
   "source": []
  }
 ],
 "metadata": {
  "kernelspec": {
   "display_name": "Python 3",
   "language": "python",
   "name": "python3"
  },
  "language_info": {
   "codemirror_mode": {
    "name": "ipython",
    "version": 3
   },
   "file_extension": ".py",
   "mimetype": "text/x-python",
   "name": "python",
   "nbconvert_exporter": "python",
   "pygments_lexer": "ipython3",
   "version": "3.7.3"
  }
 },
 "nbformat": 4,
 "nbformat_minor": 2
}
