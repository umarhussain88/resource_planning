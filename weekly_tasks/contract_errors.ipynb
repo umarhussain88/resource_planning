{
 "cells": [
  {
   "cell_type": "code",
   "execution_count": 1,
   "metadata": {},
   "outputs": [],
   "source": [
    "import sys,os\n",
    "from pathlib import Path\n",
    "from time import sleep\n",
    "\n",
    "sys.path.append(\n",
    "    os.path.abspath(\n",
    "        r\"S:\\Data\\Stores Payroll\\FY21\\99_Master Scripts (DO NOT EDIT)\\dB_Connector\"))\n",
    "\n",
    "from connector import *\n",
    "\n",
    "sys.path.append(\n",
    "    os.path.abspath(\n",
    "        r\"S:\\Data\\Stores Payroll\\FY21\\99_Master Scripts (DO NOT EDIT)\\common_functions\"))\n",
    "\n",
    "from halfords_functions import newest, halfords_week\n",
    "\n",
    "import pandas as pd\n",
    "from datetime import datetime\n",
    "import shutil\n",
    "import numpy as np\n",
    "import glob\n",
    "\n",
    "# Modified version of Newest - couldn't figure this out in Pathlib (in a readable format)\n",
    "\n",
    "\n",
    "def newest(path,pattern):\n",
    "    os.chdir(path)\n",
    "    files = glob.glob(f\"*{pattern}*.*xlsx\")\n",
    "    paths = [os.path.join(path, basename) for basename in files]\n",
    "    return max(paths, key=os.path.getctime)"
   ]
  },
  {
   "cell_type": "markdown",
   "metadata": {},
   "source": [
    "# Contract Errors FY21"
   ]
  },
  {
   "cell_type": "code",
   "execution_count": 2,
   "metadata": {},
   "outputs": [],
   "source": [
    "# fy21 dates.\n",
    "\n",
    "dates = pd.read_sql(\"SELECT * from fy21_calendar\", con=engine)\n",
    "\n",
    "# structure tab wtih shop names etc.\n",
    "\n",
    "structure = pd.read_sql(\"SELECT Shop as Store, Area from structure_tab\", engine)\n"
   ]
  },
  {
   "cell_type": "code",
   "execution_count": 3,
   "metadata": {},
   "outputs": [
    {
     "name": "stdout",
     "output_type": "stream",
     "text": [
      "As today is 2019-09-25 we haven't started FY21 so we will be using a psuedo week number which is calculated\n",
      "from the distance of weeks from FY21\n",
      "We are -27 weeks away from FY21\n"
     ]
    }
   ],
   "source": [
    "file_name,week_,day_ = halfords_week(dates)\n",
    "print(f\"We are {week_} weeks away from FY21\")"
   ]
  },
  {
   "cell_type": "code",
   "execution_count": 4,
   "metadata": {},
   "outputs": [],
   "source": [
    "path = r'S:\\Data\\Stores Payroll\\FY21\\02_Weekly Tasks\\Contractual Errors\\raw_data'"
   ]
  },
  {
   "cell_type": "code",
   "execution_count": 38,
   "metadata": {},
   "outputs": [],
   "source": [
    "bank = pd.read_excel(newest(path,'bank'),skiprows=1)\n",
    "hours = pd.read_excel(newest(path,'hours'),skiprows=1)\n",
    "contract = pd.read_excel(newest(path,'contract'),skiprows=1)"
   ]
  },
  {
   "cell_type": "markdown",
   "metadata": {},
   "source": [
    "# Bank Details"
   ]
  },
  {
   "cell_type": "code",
   "execution_count": 39,
   "metadata": {},
   "outputs": [],
   "source": [
    "\n",
    "bank = bank[['First Name','Number','Last Name','Location','Seniority Date']].copy()\n",
    "bank['Missing Bank Details'] = 'True'\n",
    "bank['Store'] = bank['Location'].str.extract('(\\d+)').astype(int)\n",
    "bank['ErrorType'] = 'Missing Bank Details'\n",
    "\n",
    "bank = bank[['First Name','Last Name','Number','Store','Seniority Date','Missing Bank Details','ErrorType']].copy()\n",
    "bank.rename(columns={'Seniority Date' : 'Effective Start','Number' : 'Employee Number'},inplace=True)\n",
    "\n",
    "b1 = bank[['First Name','Last Name','Employee Number','Store','Effective Start','ErrorType']].copy()\n"
   ]
  },
  {
   "cell_type": "markdown",
   "metadata": {},
   "source": [
    "# Contract Errors "
   ]
  },
  {
   "cell_type": "code",
   "execution_count": 40,
   "metadata": {},
   "outputs": [],
   "source": [
    "\n",
    "contract['Missing Work Contract'] = 'True'\n",
    "contract['Store'] = contract['Org Unit'].str.extract('(\\d+)').fillna(0).astype(int)\n",
    "contract['ErrorType'] = 'Contract Error'\n",
    "contract = contract[['First Name','Last Name','Employee Number','Store','Effective Start','Missing Work Contract','ErrorType']].copy()\n",
    "\n",
    "c1 = contract[['First Name','Last Name','Employee Number','Store','Effective Start','ErrorType']].copy()"
   ]
  },
  {
   "cell_type": "markdown",
   "metadata": {},
   "source": [
    "# Hours Check"
   ]
  },
  {
   "cell_type": "code",
   "execution_count": 41,
   "metadata": {},
   "outputs": [],
   "source": [
    "hours = pd.read_excel(newest(path,\"Hours\"),skiprows=1,date_parser='Effective Start')\n",
    "\n",
    "hours.loc[hours['Work Pattern Start Day'] != 'Saturday','Saturday'] = \"True\" \n",
    "\n",
    "\n",
    "hours.loc[hours['Work Contract Hours'] != (hours['Normal Weekly Hours']*2),'Work Contract Hours not Bi-Weekly'] = \"True\" \n",
    "\n",
    "\n",
    "hours.loc[hours['Work Contract Hours'] != hours['Work Pattern Hours'],'No Matching Work Pattern'] = \"True\"\n",
    "\n",
    "hours.loc[hours['Work Contract'] == 'Weekly','No Matching Work Pattern'] = \"True\"\n",
    "\n",
    "hours['Store'] = hours['Location'].str.extract('(\\d+)').fillna(0).astype(int)\n",
    "\n",
    "\n",
    "hours['ErrorType'] = 'Missing Work Pattern'\n",
    "\n",
    "\n",
    "hours = (hours[['First Name','Last Name','Employee Number','Store','Effective Start','Saturday',\n",
    "                \n",
    "                'Work Contract Hours not Bi-Weekly','No Matching Work Pattern','ErrorType']].copy())\n",
    "\n",
    "\n",
    "h1 = hours[['First Name','Last Name','Employee Number','Store','Effective Start','ErrorType']]\n",
    "\n"
   ]
  },
  {
   "cell_type": "markdown",
   "metadata": {},
   "source": [
    "# Create SQL Dataframe"
   ]
  },
  {
   "cell_type": "code",
   "execution_count": 42,
   "metadata": {},
   "outputs": [],
   "source": [
    "SQLdf = pd.concat([h1,c1,b1],ignore_index=True)"
   ]
  },
  {
   "cell_type": "code",
   "execution_count": 43,
   "metadata": {},
   "outputs": [],
   "source": [
    "SQLdf = pd.merge (structure,SQLdf,on='Store',how='right')"
   ]
  },
  {
   "cell_type": "code",
   "execution_count": 44,
   "metadata": {},
   "outputs": [],
   "source": [
    "SQLdf = SQLdf.fillna(0)"
   ]
  },
  {
   "cell_type": "code",
   "execution_count": 45,
   "metadata": {},
   "outputs": [],
   "source": [
    "SQLdf['Week'] = week_"
   ]
  },
  {
   "cell_type": "code",
   "execution_count": 46,
   "metadata": {},
   "outputs": [],
   "source": [
    "SQLdf = SQLdf[\n",
    "    [\n",
    "        \"Area\",\n",
    "        \"Store\",\n",
    "        \"Employee Number\",\n",
    "        \"First Name\",\n",
    "        \"Last Name\",\n",
    "        \"Effective Start\",\n",
    "        \"Week\",\n",
    "        \"ErrorType\",\n",
    "    ]\n",
    "].copy()\n",
    "\n",
    "columns_ct = ['Area', 'Shop Number', 'Employee Number', 'First Name', 'Last Name',\n",
    "       'Effective Start', 'Week', 'Error Type']\n",
    "\n",
    "SQLdf.columns = columns_ct"
   ]
  },
  {
   "cell_type": "markdown",
   "metadata": {},
   "source": [
    "## set metatypes"
   ]
  },
  {
   "cell_type": "code",
   "execution_count": 47,
   "metadata": {},
   "outputs": [
    {
     "data": {
      "text/plain": [
       "Area               float64\n",
       "Shop Number        float64\n",
       "Employee Number      int64\n",
       "First Name          object\n",
       "Last Name           object\n",
       "Effective Start     object\n",
       "Week                 int64\n",
       "Error Type          object\n",
       "dtype: object"
      ]
     },
     "execution_count": 47,
     "metadata": {},
     "output_type": "execute_result"
    }
   ],
   "source": [
    "SQLdf.dtypes"
   ]
  },
  {
   "cell_type": "code",
   "execution_count": 48,
   "metadata": {},
   "outputs": [],
   "source": [
    "data_types = {'First Name' : sa.types.VARCHAR,\n",
    "             'Last Name' : sa.types.VARCHAR,\n",
    "             'Effective Start' : sa.types.VARCHAR,\n",
    "             'Error Type' : sa.types.VARCHAR}"
   ]
  },
  {
   "cell_type": "code",
   "execution_count": 49,
   "metadata": {},
   "outputs": [],
   "source": [
    "max_week = pd.read_sql(\"SELECT max(Week) as W from contract_errors_ytd\",engine)['W'][0]"
   ]
  },
  {
   "cell_type": "code",
   "execution_count": null,
   "metadata": {},
   "outputs": [],
   "source": []
  },
  {
   "cell_type": "code",
   "execution_count": 50,
   "metadata": {},
   "outputs": [
    {
     "name": "stdout",
     "output_type": "stream",
     "text": [
      "Do you use to append to the YTD table? the current week is -28 and the max week in SQL is -28\n",
      "Enter [Y] or [N]n\n",
      "Not updating YTD updating weekly table\n"
     ]
    }
   ],
   "source": [
    "while True:\n",
    "    print(f\"Do you use to append to the YTD table? the current week is {week_-1} and the max week in SQL is {max_week}\")\n",
    "    cmd = input(\"Enter [Y] or [N]\")\n",
    "    if cmd.lower().strip() == 'y':\n",
    "        SQLdf.to_sql('contract_errors_ytd',engine,schema='dbo',if_exists='append',index=False,dtype=data_types)\n",
    "        print(\"YTD updated to SQL\")\n",
    "        break\n",
    "    elif cmd.lower().strip() == \"n\":\n",
    "        print(\"Not updating YTD updating weekly table\")\n",
    "        break\n",
    "    else:\n",
    "        print(\"Enter either yes/no\")"
   ]
  },
  {
   "cell_type": "code",
   "execution_count": null,
   "metadata": {},
   "outputs": [],
   "source": []
  },
  {
   "cell_type": "markdown",
   "metadata": {},
   "source": [
    "# Create Intranet Table"
   ]
  },
  {
   "cell_type": "code",
   "execution_count": 51,
   "metadata": {},
   "outputs": [],
   "source": [
    "hours = hours.iloc[:,:-1]\n",
    "contract = contract.iloc[:,:-1]\n",
    "bank = bank.iloc[:,:-1]"
   ]
  },
  {
   "cell_type": "code",
   "execution_count": 52,
   "metadata": {},
   "outputs": [],
   "source": [
    "df = SQLdf.iloc[:,:-2]"
   ]
  },
  {
   "cell_type": "code",
   "execution_count": null,
   "metadata": {},
   "outputs": [],
   "source": [
    "df = pd.merge(\n",
    "    df,\n",
    "    hours[\n",
    "        [\n",
    "            \"Employee Number\",\n",
    "            \"Saturday\",\n",
    "            \"Work Contract Hours not Bi-Weekly\",\n",
    "            \"No Matching Work Pattern\",\n",
    "        ]\n",
    "    ],\n",
    "    on=\"Employee Number\",\n",
    "    how=\"left\",\n",
    ").copy()"
   ]
  },
  {
   "cell_type": "code",
   "execution_count": 57,
   "metadata": {},
   "outputs": [],
   "source": [
    "df = pd.merge(df, contract[[\"Employee Number\", \"Missing Work Contract\"]], how=\"left\").copy()"
   ]
  },
  {
   "cell_type": "code",
   "execution_count": 58,
   "metadata": {},
   "outputs": [],
   "source": [
    "df = pd.merge(df, bank[[\"Employee Number\", \"Missing Bank Details\"]], how=\"left\").copy()"
   ]
  },
  {
   "cell_type": "code",
   "execution_count": 59,
   "metadata": {},
   "outputs": [],
   "source": [
    "df.iloc[:,-5:] = df.iloc[:,-5:].fillna(\" \")"
   ]
  },
  {
   "cell_type": "code",
   "execution_count": 61,
   "metadata": {},
   "outputs": [],
   "source": [
    "df['Effective Start'] = pd.to_datetime(df['Effective Start'],dayfirst=True,errors='coerce')"
   ]
  },
  {
   "cell_type": "code",
   "execution_count": 62,
   "metadata": {},
   "outputs": [],
   "source": [
    "df = df.drop_duplicates(subset='Employee Number',keep='last')"
   ]
  },
  {
   "cell_type": "code",
   "execution_count": 63,
   "metadata": {},
   "outputs": [],
   "source": [
    "df = df.loc[(df.Area.isnull() == False)]\n",
    "\n",
    "df.rename(columns={\"Shop Number\": \"Shop\"}, inplace=True)\n",
    "df.columns = [\n",
    "    \"Area\",\n",
    "    \"Shop\",\n",
    "    \"Number\",\n",
    "    \"First Name\",\n",
    "    \"Last Name\",\n",
    "    \"Effective Start\",\n",
    "    \"Saturday\",\n",
    "    \"biWeekly\",\n",
    "    \"noMatching\",\n",
    "    \"missingCont\",\n",
    "    \"missingBank\",\n",
    "]"
   ]
  },
  {
   "cell_type": "code",
   "execution_count": 65,
   "metadata": {},
   "outputs": [],
   "source": [
    "d = {\n",
    "    \"Area\": sa.types.BIGINT,\n",
    "    \"Shop\": sa.types.BIGINT,\n",
    "    \"Employee Number\": sa.types.BIGINT,\n",
    "    \"First Name\": sa.types.NVARCHAR(length=50),\n",
    "    \"Last Name\": sa.types.NVARCHAR(length=50),\n",
    "    \"Effective Start\": sa.types.NVARCHAR(length=50),\n",
    "    \"Saturday\": sa.types.NVARCHAR(length=50),\n",
    "    \"biWeekly\": sa.types.NVARCHAR(length=50),\n",
    "    \"noMatching\": sa.types.NVARCHAR(length=50),\n",
    "    \"missingCont\": sa.types.NVARCHAR(length=50),\n",
    "    \"missingBank\": sa.types.NVARCHAR(length=50),\n",
    "}\n",
    "\n",
    "df = df.replace(\" \", np.nan)"
   ]
  },
  {
   "cell_type": "code",
   "execution_count": 67,
   "metadata": {},
   "outputs": [
    {
     "name": "stdout",
     "output_type": "stream",
     "text": [
      "WTD Updated, Time Updated\n"
     ]
    }
   ],
   "source": [
    "df.to_sql(\"contractErrorsWeek\",engine,schema='dbo',index=False,if_exists='replace',dtype=d)\n",
    "print(\"WTD Updated, Time Updated\")\n",
    "import datetime\n",
    "last_updated = datetime.date.today().strftime(\"%A %d %B\")\n",
    "lu = pd.DataFrame({'Today' : last_updated},index=[0])\n",
    "tDtypes = {'Today' : sa.types.VARCHAR(length=255)}\n",
    "lu.to_sql('CE_Update',engine,dtype=tDtypes,index=False,schema='dbo',if_exists='replace')"
   ]
  },
  {
   "cell_type": "code",
   "execution_count": 76,
   "metadata": {},
   "outputs": [],
   "source": [
    "for file in Path(path).glob('*.xlsx'):\n",
    "    file.rename(Path(file.parent, f\"{file_name}_{file.stem}{file.suffix}\"))"
   ]
  },
  {
   "cell_type": "code",
   "execution_count": 77,
   "metadata": {},
   "outputs": [],
   "source": [
    "for file in Path(path).glob('*.xlsx'):\n",
    "    shutil.move(str(file), os.path.join(str(file.parent) + '\\\\processed', str(file).split('\\\\')[-1]))"
   ]
  },
  {
   "cell_type": "code",
   "execution_count": null,
   "metadata": {},
   "outputs": [],
   "source": []
  }
 ],
 "metadata": {
  "kernelspec": {
   "display_name": "Python 3",
   "language": "python",
   "name": "python3"
  },
  "language_info": {
   "codemirror_mode": {
    "name": "ipython",
    "version": 3
   },
   "file_extension": ".py",
   "mimetype": "text/x-python",
   "name": "python",
   "nbconvert_exporter": "python",
   "pygments_lexer": "ipython3",
   "version": "3.7.3"
  }
 },
 "nbformat": 4,
 "nbformat_minor": 2
}
