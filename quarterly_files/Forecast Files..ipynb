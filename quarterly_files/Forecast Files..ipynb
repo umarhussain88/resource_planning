{
 "cells": [
  {
   "cell_type": "markdown",
   "metadata": {},
   "source": [
    "# Transformation of Raw Finance Data for Forecast.\n",
    "\n",
    "* Takes in raw data from a specified location.\n",
    "\n",
    "* Transforms Data. \n",
    "\n",
    "* Outputs."
   ]
  },
  {
   "cell_type": "code",
   "execution_count": 59,
   "metadata": {},
   "outputs": [],
   "source": [
    "import sys,os\n",
    "from pathlib import Path\n",
    "from time import sleep\n",
    "\n",
    "sys.path.append(\n",
    "    os.path.abspath(\n",
    "        r\"S:\\Data\\Stores Payroll\\FY21\\99_Master Scripts (DO NOT EDIT)\\dB_Connector\"))\n",
    "\n",
    "from connector import *\n",
    "\n",
    "sys.path.append(\n",
    "    os.path.abspath(\n",
    "        r\"S:\\Data\\Stores Payroll\\FY21\\99_Master Scripts (DO NOT EDIT)\\common_functions\"))\n",
    "\n",
    "from halfords_functions import newest, halfords_week\n",
    "\n",
    "\n",
    "import pandas as pd\n",
    "from datetime import datetime\n",
    "import shutil\n",
    "import re\n",
    "import numpy as np\n",
    "import sys"
   ]
  },
  {
   "cell_type": "code",
   "execution_count": 2,
   "metadata": {},
   "outputs": [],
   "source": [
    "raw_path = r'S:\\Data\\Stores Payroll\\FY21\\05_Forecasts_FY21\\Finance Files to Transform\\raw_data'"
   ]
  },
  {
   "cell_type": "code",
   "execution_count": 27,
   "metadata": {},
   "outputs": [
    {
     "name": "stdout",
     "output_type": "stream",
     "text": [
      "Please select the file you would like to use by selecting the number listed next to the file.\n",
      "1 : Vols Breakback - Sukh - Copy.xlsx\n",
      "2 : Vols Breakback - Sukh.xlsx\n"
     ]
    }
   ],
   "source": [
    "print(\"Please select the file you would like to use by selecting the number listed next to the file.\")\n",
    "\n",
    "\n",
    "files_,numbers_ = [],[]\n",
    "\n",
    "\n",
    "for num,file in enumerate(Path(raw_path).glob('*.xlsx'),start=1):\n",
    "    print(num,':',file.name)\n",
    "    numbers_.append(num)\n",
    "    files_.append(file)\n",
    "\n",
    "    "
   ]
  },
  {
   "cell_type": "code",
   "execution_count": 4,
   "metadata": {},
   "outputs": [],
   "source": [
    "files = [x for x in Path(raw_path).glob('**/*') if x.is_file()]"
   ]
  },
  {
   "cell_type": "code",
   "execution_count": 5,
   "metadata": {},
   "outputs": [],
   "source": [
    "nums_ = [i for i in range(1,len(files)+1)] "
   ]
  },
  {
   "cell_type": "code",
   "execution_count": 11,
   "metadata": {},
   "outputs": [],
   "source": []
  },
  {
   "cell_type": "code",
   "execution_count": 12,
   "metadata": {},
   "outputs": [
    {
     "ename": "ValueError",
     "evalue": "invalid literal for int() with base 10: 'z'",
     "output_type": "error",
     "traceback": [
      "\u001b[1;31m---------------------------------------------------------------------------\u001b[0m",
      "\u001b[1;31mValueError\u001b[0m                                Traceback (most recent call last)",
      "\u001b[1;32m<ipython-input-12-fa07929af328>\u001b[0m in \u001b[0;36m<module>\u001b[1;34m\u001b[0m\n\u001b[1;32m----> 1\u001b[1;33m \u001b[1;32mif\u001b[0m \u001b[0mcmd\u001b[0m \u001b[1;33m==\u001b[0m \u001b[0mint\u001b[0m\u001b[1;33m(\u001b[0m\u001b[0mcmd\u001b[0m\u001b[1;33m)\u001b[0m\u001b[1;33m:\u001b[0m\u001b[1;33m\u001b[0m\u001b[1;33m\u001b[0m\u001b[0m\n\u001b[0m\u001b[0;32m      2\u001b[0m     \u001b[0mprint\u001b[0m\u001b[1;33m(\u001b[0m\u001b[1;34m\"True\"\u001b[0m\u001b[1;33m)\u001b[0m\u001b[1;33m\u001b[0m\u001b[1;33m\u001b[0m\u001b[0m\n",
      "\u001b[1;31mValueError\u001b[0m: invalid literal for int() with base 10: 'z'"
     ]
    }
   ],
   "source": []
  },
  {
   "cell_type": "code",
   "execution_count": 15,
   "metadata": {},
   "outputs": [
    {
     "name": "stdout",
     "output_type": "stream",
     "text": [
      "Select your number between 1 - 2 :15\n",
      "Please select a number between 1 - 2\n",
      "Select your number between 1 - 2 :1\n"
     ]
    }
   ],
   "source": [
    "while True:\n",
    "    cmd = input(f\"Select your number between {min(nums_)} - {max(nums_)} :\")\n",
    "    try:\n",
    "        if int(cmd) in nums_:\n",
    "            break\n",
    "    except ValueError:\n",
    "        print(f\"Please select a number between {min(nums_)} - {max(nums_)}\")\n",
    "    else:\n",
    "        print(f\"Please select a number between {min(nums_)} - {max(nums_)}\")\n"
   ]
  },
  {
   "cell_type": "code",
   "execution_count": 31,
   "metadata": {},
   "outputs": [],
   "source": [
    "file_dict = dict(zip(numbers_,files))"
   ]
  },
  {
   "cell_type": "code",
   "execution_count": 84,
   "metadata": {},
   "outputs": [
    {
     "name": "stdout",
     "output_type": "stream",
     "text": [
      "Reading in: Vols Breakback - Sukh - Copy.xlsx\n"
     ]
    }
   ],
   "source": []
  },
  {
   "cell_type": "code",
   "execution_count": 42,
   "metadata": {},
   "outputs": [],
   "source": [
    "xl = pd.ExcelFile(file_dict[int(cmd)])"
   ]
  },
  {
   "cell_type": "code",
   "execution_count": 47,
   "metadata": {},
   "outputs": [
    {
     "name": "stdout",
     "output_type": "stream",
     "text": [
      "The sheet names from this file are:\n",
      "['Sheet1']\n"
     ]
    }
   ],
   "source": [
    "print(f\"The sheet names from this file are:\\n{xl.sheet_names}\")"
   ]
  },
  {
   "cell_type": "code",
   "execution_count": 48,
   "metadata": {},
   "outputs": [],
   "source": [
    "df = pd.read_excel(xl)"
   ]
  },
  {
   "cell_type": "code",
   "execution_count": 54,
   "metadata": {},
   "outputs": [
    {
     "name": "stdout",
     "output_type": "stream",
     "text": [
      "These are the columns we will unpivot\n",
      "['Type', 'Store', 'PG']\n"
     ]
    }
   ],
   "source": [
    "print(f\"These are the columns we will unpivot\\n{df.iloc[:,:3].columns.tolist()}\")"
   ]
  },
  {
   "cell_type": "code",
   "execution_count": 66,
   "metadata": {},
   "outputs": [
    {
     "name": "stdout",
     "output_type": "stream",
     "text": [
      "These are the week columns with the relevant data\n",
      "2019001 to 2019053 \n"
     ]
    }
   ],
   "source": [
    "print(\n",
    "    f\"These are the week columns with the relevant data\\n{df.iloc[:,3:].columns.tolist()[0]} to {df.iloc[:,3:].columns.tolist()[-1]} \"\n",
    ")"
   ]
  },
  {
   "cell_type": "code",
   "execution_count": 56,
   "metadata": {},
   "outputs": [
    {
     "name": "stdout",
     "output_type": "stream",
     "text": [
      "is this correct?\n"
     ]
    }
   ],
   "source": [
    "print(\"is this correct?\")"
   ]
  },
  {
   "cell_type": "code",
   "execution_count": null,
   "metadata": {},
   "outputs": [],
   "source": []
  },
  {
   "cell_type": "code",
   "execution_count": 61,
   "metadata": {},
   "outputs": [
    {
     "name": "stdout",
     "output_type": "stream",
     "text": [
      "Please Select [Y] \\ [N] : n\n",
      "Exiting Program, please correct your data and proceed. the first \n",
      "three columns should be Type, Store & PG\n"
     ]
    },
    {
     "ename": "SystemExit",
     "evalue": "",
     "output_type": "error",
     "traceback": [
      "An exception has occurred, use %tb to see the full traceback.\n",
      "\u001b[1;31mSystemExit\u001b[0m\n"
     ]
    },
    {
     "name": "stderr",
     "output_type": "stream",
     "text": [
      "C:\\Users\\hal01845\\AppData\\Local\\Continuum\\anaconda3\\lib\\site-packages\\IPython\\core\\interactiveshell.py:3304: UserWarning: To exit: use 'exit', 'quit', or Ctrl-D.\n",
      "  warn(\"To exit: use 'exit', 'quit', or Ctrl-D.\", stacklevel=1)\n"
     ]
    }
   ],
   "source": [
    "while True:\n",
    "    cmd_2 = input(\"Please Select [Y] \\ [N] : \")\n",
    "    if cmd_2.lower().strip() == 'y':\n",
    "        break\n",
    "    elif cmd_2.lower().strip() == 'n':\n",
    "        print(\"Exiting Program, please correct your data and proceed. the first \\nthree columns should be Type, Store & PG\")\n",
    "        sys.exit()\n",
    "    else:\n",
    "        print(\"Please Select Y or N\")\n",
    "        \n",
    "    "
   ]
  },
  {
   "cell_type": "code",
   "execution_count": 69,
   "metadata": {},
   "outputs": [],
   "source": [
    "#melted_columns \n",
    "ml_c = df.iloc[:,:3].columns.tolist()"
   ]
  },
  {
   "cell_type": "code",
   "execution_count": 97,
   "metadata": {},
   "outputs": [],
   "source": [
    "final_ = pd.melt(df, id_vars=[ml_c[0], ml_c[1], ml_c[2]], var_name='Week',value_name='Volumes')"
   ]
  },
  {
   "cell_type": "code",
   "execution_count": 98,
   "metadata": {},
   "outputs": [],
   "source": [
    "final_['Week'] = final_['Week'].astype(str).str[-3:]"
   ]
  },
  {
   "cell_type": "code",
   "execution_count": 104,
   "metadata": {},
   "outputs": [],
   "source": [
    "final_['Week'] = final_['Week'].astype(int)"
   ]
  },
  {
   "cell_type": "code",
   "execution_count": 119,
   "metadata": {},
   "outputs": [],
   "source": [
    "week_selector = []\n",
    "\n",
    "for i in range(1,54):\n",
    "    week_selector.append(i)"
   ]
  },
  {
   "cell_type": "code",
   "execution_count": 120,
   "metadata": {},
   "outputs": [
    {
     "name": "stdout",
     "output_type": "stream",
     "text": [
      "Select a minimum start between 1-53: 53\n"
     ]
    }
   ],
   "source": [
    "while True:\n",
    "    cmd_3 = input(\"Select a minimum start between 1-53: \")\n",
    "    try:\n",
    "        if int(cmd_3) in week_selector:\n",
    "            break\n",
    "    except ValueError:\n",
    "        print(\"Select a valid week.\")\n",
    "    else:\n",
    "        print(\"Select a valid week.\")\n",
    "        \n",
    "final_ = final_.loc[final_['Week'] >= int(cmd_3)]\n",
    "        "
   ]
  },
  {
   "cell_type": "code",
   "execution_count": 123,
   "metadata": {},
   "outputs": [
    {
     "data": {
      "text/plain": [
       "53"
      ]
     },
     "execution_count": 123,
     "metadata": {},
     "output_type": "execute_result"
    }
   ],
   "source": [
    "int(cmd_3)"
   ]
  },
  {
   "cell_type": "code",
   "execution_count": null,
   "metadata": {},
   "outputs": [],
   "source": []
  },
  {
   "cell_type": "code",
   "execution_count": 99,
   "metadata": {},
   "outputs": [
    {
     "data": {
      "text/html": [
       "<div>\n",
       "<style scoped>\n",
       "    .dataframe tbody tr th:only-of-type {\n",
       "        vertical-align: middle;\n",
       "    }\n",
       "\n",
       "    .dataframe tbody tr th {\n",
       "        vertical-align: top;\n",
       "    }\n",
       "\n",
       "    .dataframe thead th {\n",
       "        text-align: right;\n",
       "    }\n",
       "</style>\n",
       "<table border=\"1\" class=\"dataframe\">\n",
       "  <thead>\n",
       "    <tr style=\"text-align: right;\">\n",
       "      <th></th>\n",
       "      <th>Week</th>\n",
       "      <th>Store</th>\n",
       "      <th>PG</th>\n",
       "      <th>Volumes</th>\n",
       "    </tr>\n",
       "  </thead>\n",
       "  <tbody>\n",
       "    <tr>\n",
       "      <th>0</th>\n",
       "      <td>001</td>\n",
       "      <td>321.0</td>\n",
       "      <td>AA</td>\n",
       "      <td>NaN</td>\n",
       "    </tr>\n",
       "    <tr>\n",
       "      <th>1</th>\n",
       "      <td>001</td>\n",
       "      <td>571.0</td>\n",
       "      <td>AA</td>\n",
       "      <td>0.000000</td>\n",
       "    </tr>\n",
       "    <tr>\n",
       "      <th>2</th>\n",
       "      <td>001</td>\n",
       "      <td>572.0</td>\n",
       "      <td>AA</td>\n",
       "      <td>0.000000</td>\n",
       "    </tr>\n",
       "    <tr>\n",
       "      <th>3</th>\n",
       "      <td>001</td>\n",
       "      <td>800.0</td>\n",
       "      <td>AA</td>\n",
       "      <td>0.000000</td>\n",
       "    </tr>\n",
       "    <tr>\n",
       "      <th>4</th>\n",
       "      <td>001</td>\n",
       "      <td>801.0</td>\n",
       "      <td>AA</td>\n",
       "      <td>0.000000</td>\n",
       "    </tr>\n",
       "    <tr>\n",
       "      <th>5</th>\n",
       "      <td>001</td>\n",
       "      <td>802.0</td>\n",
       "      <td>AA</td>\n",
       "      <td>0.000000</td>\n",
       "    </tr>\n",
       "    <tr>\n",
       "      <th>6</th>\n",
       "      <td>001</td>\n",
       "      <td>803.0</td>\n",
       "      <td>AA</td>\n",
       "      <td>0.000000</td>\n",
       "    </tr>\n",
       "    <tr>\n",
       "      <th>7</th>\n",
       "      <td>001</td>\n",
       "      <td>804.0</td>\n",
       "      <td>AA</td>\n",
       "      <td>0.000000</td>\n",
       "    </tr>\n",
       "    <tr>\n",
       "      <th>8</th>\n",
       "      <td>001</td>\n",
       "      <td>805.0</td>\n",
       "      <td>AA</td>\n",
       "      <td>0.000000</td>\n",
       "    </tr>\n",
       "    <tr>\n",
       "      <th>9</th>\n",
       "      <td>001</td>\n",
       "      <td>806.0</td>\n",
       "      <td>AA</td>\n",
       "      <td>0.000000</td>\n",
       "    </tr>\n",
       "    <tr>\n",
       "      <th>10</th>\n",
       "      <td>001</td>\n",
       "      <td>808.0</td>\n",
       "      <td>AA</td>\n",
       "      <td>0.000000</td>\n",
       "    </tr>\n",
       "    <tr>\n",
       "      <th>11</th>\n",
       "      <td>001</td>\n",
       "      <td>810.0</td>\n",
       "      <td>AA</td>\n",
       "      <td>0.000000</td>\n",
       "    </tr>\n",
       "    <tr>\n",
       "      <th>12</th>\n",
       "      <td>001</td>\n",
       "      <td>811.0</td>\n",
       "      <td>AA</td>\n",
       "      <td>0.000000</td>\n",
       "    </tr>\n",
       "    <tr>\n",
       "      <th>13</th>\n",
       "      <td>001</td>\n",
       "      <td>813.0</td>\n",
       "      <td>AA</td>\n",
       "      <td>0.000000</td>\n",
       "    </tr>\n",
       "    <tr>\n",
       "      <th>14</th>\n",
       "      <td>001</td>\n",
       "      <td>815.0</td>\n",
       "      <td>AA</td>\n",
       "      <td>0.000000</td>\n",
       "    </tr>\n",
       "    <tr>\n",
       "      <th>15</th>\n",
       "      <td>001</td>\n",
       "      <td>817.0</td>\n",
       "      <td>AA</td>\n",
       "      <td>0.000000</td>\n",
       "    </tr>\n",
       "    <tr>\n",
       "      <th>16</th>\n",
       "      <td>001</td>\n",
       "      <td>818.0</td>\n",
       "      <td>AA</td>\n",
       "      <td>0.000000</td>\n",
       "    </tr>\n",
       "    <tr>\n",
       "      <th>17</th>\n",
       "      <td>001</td>\n",
       "      <td>573.0</td>\n",
       "      <td>AA</td>\n",
       "      <td>0.000000</td>\n",
       "    </tr>\n",
       "    <tr>\n",
       "      <th>18</th>\n",
       "      <td>001</td>\n",
       "      <td>574.0</td>\n",
       "      <td>AA</td>\n",
       "      <td>0.000000</td>\n",
       "    </tr>\n",
       "    <tr>\n",
       "      <th>19</th>\n",
       "      <td>001</td>\n",
       "      <td>575.0</td>\n",
       "      <td>AA</td>\n",
       "      <td>0.000000</td>\n",
       "    </tr>\n",
       "    <tr>\n",
       "      <th>20</th>\n",
       "      <td>001</td>\n",
       "      <td>576.0</td>\n",
       "      <td>AA</td>\n",
       "      <td>0.000000</td>\n",
       "    </tr>\n",
       "    <tr>\n",
       "      <th>21</th>\n",
       "      <td>001</td>\n",
       "      <td>577.0</td>\n",
       "      <td>AA</td>\n",
       "      <td>0.000000</td>\n",
       "    </tr>\n",
       "    <tr>\n",
       "      <th>22</th>\n",
       "      <td>001</td>\n",
       "      <td>578.0</td>\n",
       "      <td>AA</td>\n",
       "      <td>0.000000</td>\n",
       "    </tr>\n",
       "    <tr>\n",
       "      <th>23</th>\n",
       "      <td>001</td>\n",
       "      <td>579.0</td>\n",
       "      <td>AA</td>\n",
       "      <td>0.000000</td>\n",
       "    </tr>\n",
       "    <tr>\n",
       "      <th>24</th>\n",
       "      <td>001</td>\n",
       "      <td>580.0</td>\n",
       "      <td>AA</td>\n",
       "      <td>0.000000</td>\n",
       "    </tr>\n",
       "    <tr>\n",
       "      <th>25</th>\n",
       "      <td>001</td>\n",
       "      <td>581.0</td>\n",
       "      <td>AA</td>\n",
       "      <td>0.000000</td>\n",
       "    </tr>\n",
       "    <tr>\n",
       "      <th>26</th>\n",
       "      <td>001</td>\n",
       "      <td>582.0</td>\n",
       "      <td>AA</td>\n",
       "      <td>0.000000</td>\n",
       "    </tr>\n",
       "    <tr>\n",
       "      <th>27</th>\n",
       "      <td>001</td>\n",
       "      <td>583.0</td>\n",
       "      <td>AA</td>\n",
       "      <td>0.000000</td>\n",
       "    </tr>\n",
       "    <tr>\n",
       "      <th>28</th>\n",
       "      <td>001</td>\n",
       "      <td>584.0</td>\n",
       "      <td>AA</td>\n",
       "      <td>0.000000</td>\n",
       "    </tr>\n",
       "    <tr>\n",
       "      <th>29</th>\n",
       "      <td>001</td>\n",
       "      <td>585.0</td>\n",
       "      <td>AA</td>\n",
       "      <td>0.000000</td>\n",
       "    </tr>\n",
       "    <tr>\n",
       "      <th>...</th>\n",
       "      <td>...</td>\n",
       "      <td>...</td>\n",
       "      <td>...</td>\n",
       "      <td>...</td>\n",
       "    </tr>\n",
       "    <tr>\n",
       "      <th>4479689</th>\n",
       "      <td>053</td>\n",
       "      <td>869.0</td>\n",
       "      <td>MU</td>\n",
       "      <td>3.000000</td>\n",
       "    </tr>\n",
       "    <tr>\n",
       "      <th>4479690</th>\n",
       "      <td>053</td>\n",
       "      <td>895.0</td>\n",
       "      <td>MV</td>\n",
       "      <td>48.000000</td>\n",
       "    </tr>\n",
       "    <tr>\n",
       "      <th>4479691</th>\n",
       "      <td>053</td>\n",
       "      <td>895.0</td>\n",
       "      <td>MS</td>\n",
       "      <td>100.000000</td>\n",
       "    </tr>\n",
       "    <tr>\n",
       "      <th>4479692</th>\n",
       "      <td>053</td>\n",
       "      <td>895.0</td>\n",
       "      <td>MU</td>\n",
       "      <td>12.000000</td>\n",
       "    </tr>\n",
       "    <tr>\n",
       "      <th>4479693</th>\n",
       "      <td>053</td>\n",
       "      <td>967.0</td>\n",
       "      <td>MV</td>\n",
       "      <td>25.000000</td>\n",
       "    </tr>\n",
       "    <tr>\n",
       "      <th>4479694</th>\n",
       "      <td>053</td>\n",
       "      <td>967.0</td>\n",
       "      <td>MS</td>\n",
       "      <td>24.000000</td>\n",
       "    </tr>\n",
       "    <tr>\n",
       "      <th>4479695</th>\n",
       "      <td>053</td>\n",
       "      <td>967.0</td>\n",
       "      <td>MU</td>\n",
       "      <td>1.000000</td>\n",
       "    </tr>\n",
       "    <tr>\n",
       "      <th>4479696</th>\n",
       "      <td>053</td>\n",
       "      <td>10.0</td>\n",
       "      <td>YC</td>\n",
       "      <td>4.671944</td>\n",
       "    </tr>\n",
       "    <tr>\n",
       "      <th>4479697</th>\n",
       "      <td>053</td>\n",
       "      <td>217.0</td>\n",
       "      <td>YC</td>\n",
       "      <td>6.010930</td>\n",
       "    </tr>\n",
       "    <tr>\n",
       "      <th>4479698</th>\n",
       "      <td>053</td>\n",
       "      <td>354.0</td>\n",
       "      <td>YC</td>\n",
       "      <td>2.913777</td>\n",
       "    </tr>\n",
       "    <tr>\n",
       "      <th>4479699</th>\n",
       "      <td>053</td>\n",
       "      <td>359.0</td>\n",
       "      <td>YC</td>\n",
       "      <td>2.889347</td>\n",
       "    </tr>\n",
       "    <tr>\n",
       "      <th>4479700</th>\n",
       "      <td>053</td>\n",
       "      <td>380.0</td>\n",
       "      <td>YC</td>\n",
       "      <td>2.280500</td>\n",
       "    </tr>\n",
       "    <tr>\n",
       "      <th>4479701</th>\n",
       "      <td>053</td>\n",
       "      <td>398.0</td>\n",
       "      <td>YC</td>\n",
       "      <td>6.794653</td>\n",
       "    </tr>\n",
       "    <tr>\n",
       "      <th>4479702</th>\n",
       "      <td>053</td>\n",
       "      <td>402.0</td>\n",
       "      <td>YC</td>\n",
       "      <td>11.084216</td>\n",
       "    </tr>\n",
       "    <tr>\n",
       "      <th>4479703</th>\n",
       "      <td>053</td>\n",
       "      <td>416.0</td>\n",
       "      <td>YC</td>\n",
       "      <td>5.653593</td>\n",
       "    </tr>\n",
       "    <tr>\n",
       "      <th>4479704</th>\n",
       "      <td>053</td>\n",
       "      <td>552.0</td>\n",
       "      <td>YC</td>\n",
       "      <td>12.699698</td>\n",
       "    </tr>\n",
       "    <tr>\n",
       "      <th>4479705</th>\n",
       "      <td>053</td>\n",
       "      <td>557.0</td>\n",
       "      <td>YC</td>\n",
       "      <td>7.875730</td>\n",
       "    </tr>\n",
       "    <tr>\n",
       "      <th>4479706</th>\n",
       "      <td>053</td>\n",
       "      <td>578.0</td>\n",
       "      <td>YC</td>\n",
       "      <td>11.626355</td>\n",
       "    </tr>\n",
       "    <tr>\n",
       "      <th>4479707</th>\n",
       "      <td>053</td>\n",
       "      <td>713.0</td>\n",
       "      <td>YC</td>\n",
       "      <td>9.143274</td>\n",
       "    </tr>\n",
       "    <tr>\n",
       "      <th>4479708</th>\n",
       "      <td>053</td>\n",
       "      <td>716.0</td>\n",
       "      <td>YC</td>\n",
       "      <td>8.209633</td>\n",
       "    </tr>\n",
       "    <tr>\n",
       "      <th>4479709</th>\n",
       "      <td>053</td>\n",
       "      <td>739.0</td>\n",
       "      <td>YC</td>\n",
       "      <td>4.334053</td>\n",
       "    </tr>\n",
       "    <tr>\n",
       "      <th>4479710</th>\n",
       "      <td>053</td>\n",
       "      <td>763.0</td>\n",
       "      <td>YC</td>\n",
       "      <td>9.767055</td>\n",
       "    </tr>\n",
       "    <tr>\n",
       "      <th>4479711</th>\n",
       "      <td>053</td>\n",
       "      <td>789.0</td>\n",
       "      <td>YC</td>\n",
       "      <td>9.039159</td>\n",
       "    </tr>\n",
       "    <tr>\n",
       "      <th>4479712</th>\n",
       "      <td>053</td>\n",
       "      <td>805.0</td>\n",
       "      <td>YC</td>\n",
       "      <td>9.149915</td>\n",
       "    </tr>\n",
       "    <tr>\n",
       "      <th>4479713</th>\n",
       "      <td>053</td>\n",
       "      <td>852.0</td>\n",
       "      <td>YC</td>\n",
       "      <td>8.638829</td>\n",
       "    </tr>\n",
       "    <tr>\n",
       "      <th>4479714</th>\n",
       "      <td>053</td>\n",
       "      <td>873.0</td>\n",
       "      <td>YC</td>\n",
       "      <td>9.562830</td>\n",
       "    </tr>\n",
       "    <tr>\n",
       "      <th>4479715</th>\n",
       "      <td>053</td>\n",
       "      <td>878.0</td>\n",
       "      <td>YC</td>\n",
       "      <td>7.843408</td>\n",
       "    </tr>\n",
       "    <tr>\n",
       "      <th>4479716</th>\n",
       "      <td>053</td>\n",
       "      <td>885.0</td>\n",
       "      <td>YC</td>\n",
       "      <td>8.586305</td>\n",
       "    </tr>\n",
       "    <tr>\n",
       "      <th>4479717</th>\n",
       "      <td>053</td>\n",
       "      <td>976.0</td>\n",
       "      <td>YC</td>\n",
       "      <td>9.530024</td>\n",
       "    </tr>\n",
       "    <tr>\n",
       "      <th>4479718</th>\n",
       "      <td>053</td>\n",
       "      <td>996.0</td>\n",
       "      <td>YC</td>\n",
       "      <td>13.942723</td>\n",
       "    </tr>\n",
       "  </tbody>\n",
       "</table>\n",
       "<p>4479719 rows × 4 columns</p>\n",
       "</div>"
      ],
      "text/plain": [
       "        Week  Store  PG     Volumes\n",
       "0        001  321.0  AA         NaN\n",
       "1        001  571.0  AA    0.000000\n",
       "2        001  572.0  AA    0.000000\n",
       "3        001  800.0  AA    0.000000\n",
       "4        001  801.0  AA    0.000000\n",
       "5        001  802.0  AA    0.000000\n",
       "6        001  803.0  AA    0.000000\n",
       "7        001  804.0  AA    0.000000\n",
       "8        001  805.0  AA    0.000000\n",
       "9        001  806.0  AA    0.000000\n",
       "10       001  808.0  AA    0.000000\n",
       "11       001  810.0  AA    0.000000\n",
       "12       001  811.0  AA    0.000000\n",
       "13       001  813.0  AA    0.000000\n",
       "14       001  815.0  AA    0.000000\n",
       "15       001  817.0  AA    0.000000\n",
       "16       001  818.0  AA    0.000000\n",
       "17       001  573.0  AA    0.000000\n",
       "18       001  574.0  AA    0.000000\n",
       "19       001  575.0  AA    0.000000\n",
       "20       001  576.0  AA    0.000000\n",
       "21       001  577.0  AA    0.000000\n",
       "22       001  578.0  AA    0.000000\n",
       "23       001  579.0  AA    0.000000\n",
       "24       001  580.0  AA    0.000000\n",
       "25       001  581.0  AA    0.000000\n",
       "26       001  582.0  AA    0.000000\n",
       "27       001  583.0  AA    0.000000\n",
       "28       001  584.0  AA    0.000000\n",
       "29       001  585.0  AA    0.000000\n",
       "...      ...    ...  ..         ...\n",
       "4479689  053  869.0  MU    3.000000\n",
       "4479690  053  895.0  MV   48.000000\n",
       "4479691  053  895.0  MS  100.000000\n",
       "4479692  053  895.0  MU   12.000000\n",
       "4479693  053  967.0  MV   25.000000\n",
       "4479694  053  967.0  MS   24.000000\n",
       "4479695  053  967.0  MU    1.000000\n",
       "4479696  053   10.0  YC    4.671944\n",
       "4479697  053  217.0  YC    6.010930\n",
       "4479698  053  354.0  YC    2.913777\n",
       "4479699  053  359.0  YC    2.889347\n",
       "4479700  053  380.0  YC    2.280500\n",
       "4479701  053  398.0  YC    6.794653\n",
       "4479702  053  402.0  YC   11.084216\n",
       "4479703  053  416.0  YC    5.653593\n",
       "4479704  053  552.0  YC   12.699698\n",
       "4479705  053  557.0  YC    7.875730\n",
       "4479706  053  578.0  YC   11.626355\n",
       "4479707  053  713.0  YC    9.143274\n",
       "4479708  053  716.0  YC    8.209633\n",
       "4479709  053  739.0  YC    4.334053\n",
       "4479710  053  763.0  YC    9.767055\n",
       "4479711  053  789.0  YC    9.039159\n",
       "4479712  053  805.0  YC    9.149915\n",
       "4479713  053  852.0  YC    8.638829\n",
       "4479714  053  873.0  YC    9.562830\n",
       "4479715  053  878.0  YC    7.843408\n",
       "4479716  053  885.0  YC    8.586305\n",
       "4479717  053  976.0  YC    9.530024\n",
       "4479718  053  996.0  YC   13.942723\n",
       "\n",
       "[4479719 rows x 4 columns]"
      ]
     },
     "execution_count": 99,
     "metadata": {},
     "output_type": "execute_result"
    }
   ],
   "source": [
    "final_[['Week','Store','PG','Volumes']].fillna(0)"
   ]
  },
  {
   "cell_type": "code",
   "execution_count": null,
   "metadata": {},
   "outputs": [],
   "source": []
  }
 ],
 "metadata": {
  "kernelspec": {
   "display_name": "Python 3",
   "language": "python",
   "name": "python3"
  },
  "language_info": {
   "codemirror_mode": {
    "name": "ipython",
    "version": 3
   },
   "file_extension": ".py",
   "mimetype": "text/x-python",
   "name": "python",
   "nbconvert_exporter": "python",
   "pygments_lexer": "ipython3",
   "version": "3.7.3"
  }
 },
 "nbformat": 4,
 "nbformat_minor": 2
}
